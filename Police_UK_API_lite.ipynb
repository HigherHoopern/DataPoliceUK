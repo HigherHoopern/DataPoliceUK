{
 "cells": [
  {
   "attachments": {},
   "cell_type": "markdown",
   "metadata": {
    "id": "WangCDPCnyz3"
   },
   "source": [
    "# Data Police UK "
   ]
  },
  {
   "attachments": {},
   "cell_type": "markdown",
   "metadata": {
    "id": "g-u0WFByn3a4"
   },
   "source": [
    "This notebook is to briefly demonstrate how to implement the ETL pipeline using downloaded street-level crime and outcomes in City of London in January 2023."
   ]
  },
  {
   "cell_type": "code",
   "execution_count": 1,
   "metadata": {
    "id": "_j_ieGwgnFmF",
    "tags": []
   },
   "outputs": [],
   "source": [
    "# Load packages\n",
    "import numpy as np\n",
    "import pandas as pd\n",
    "\n",
    "# ignore warnings\n",
    "import warnings\n",
    "warnings.filterwarnings(\"ignore\")"
   ]
  },
  {
   "cell_type": "markdown",
   "metadata": {
    "tags": []
   },
   "source": [
    "The unzip files contain three type of files of which names ends with `street`, `outcomes` and `stop-and-search`."
   ]
  },
  {
   "cell_type": "code",
   "execution_count": 2,
   "metadata": {
    "tags": []
   },
   "outputs": [],
   "source": [
    "# read outcomes file\n",
    "df_outcomes = pd.read_csv('data/2023-01-city-of-london-outcomes.csv')\n",
    "# read street-level crime file\n",
    "df_street = pd.read_csv('data/2023-01-city-of-london-street.csv')"
   ]
  },
  {
   "cell_type": "code",
   "execution_count": 3,
   "metadata": {
    "tags": []
   },
   "outputs": [],
   "source": [
    "# identical columns in street-level crime and outcomes\n",
    "intersection_col = list(set(df_outcomes.columns).intersection(set(df_street.columns)))\n",
    "# merge street level and outcome\n",
    "data = pd.merge(df_street, df_outcomes, on=intersection_col,how='left')"
   ]
  },
  {
   "cell_type": "code",
   "execution_count": 4,
   "metadata": {
    "tags": []
   },
   "outputs": [],
   "source": [
    "\n",
    "# merge street level crime and outcomes\n",
    "data = pd.merge(df_street, df_outcomes, on=intersection_col,how='left')\n",
    "\n",
    "# drop duplicates in Crime ID\n",
    "data.drop_duplicates(subset=['Crime ID'],inplace=True)\n",
    "\n",
    "# sort month in descending order\n",
    "data.sort_values(['Month'], ascending = False, inplace = True)\n",
    "\n",
    "# if Outcome type is empty, missing_outcome returns yes, else returns no.\n",
    "data['missing_outcome'] = data['Outcome type'].apply(lambda x : 'yes' if (x == np.NaN) else 'no')\n",
    "\n",
    "# If missing_outcome is yes,  Authority no outcome returns the values ofReported by, \n",
    "# else returns empty string, where Reported by is authorities names.\n",
    "\n",
    "data['Authority no outcome'] = data.apply(lambda x : x['Reported by'] \\\n",
    "                                          if x['missing_outcome'] == 'yes' else '', axis=1)\n",
    "\n",
    "# slice `Authority_no_outcome` and crime id\n",
    "Authority_no_outcome = data[['Crime ID','Authority no outcome']]\n",
    "\n",
    "# query entries where missing_outcome is \"no\" to remove entries without outcome\n",
    "data = data.query('missing_outcome == \"no\"')\n",
    "\n",
    "# drop temp column 'missing_outcome' and Authority no outcome with all possibile \n",
    "data.drop(['missing_outcome'], axis=1, inplace=True)\n",
    "data.drop(['Authority no outcome'], axis=1, inplace=True)\n",
    "\n",
    "# merge Authority_no_outcome to data\n",
    "data = pd.merge(data,Authority_no_outcome, on=['Crime ID'], how = 'left')\n",
    "# reset index\n",
    "data.reset_index(drop=True, inplace=True)\n",
    "\n",
    "# columns ['Falls within'] is the nearest police station"
   ]
  },
  {
   "cell_type": "code",
   "execution_count": 5,
   "metadata": {},
   "outputs": [
    {
     "data": {
      "text/plain": [
       "(664, 14)"
      ]
     },
     "execution_count": 5,
     "metadata": {},
     "output_type": "execute_result"
    }
   ],
   "source": [
    "data.shape"
   ]
  },
  {
   "cell_type": "code",
   "execution_count": 6,
   "metadata": {},
   "outputs": [
    {
     "data": {
      "text/html": [
       "<div>\n",
       "<style scoped>\n",
       "    .dataframe tbody tr th:only-of-type {\n",
       "        vertical-align: middle;\n",
       "    }\n",
       "\n",
       "    .dataframe tbody tr th {\n",
       "        vertical-align: top;\n",
       "    }\n",
       "\n",
       "    .dataframe thead th {\n",
       "        text-align: right;\n",
       "    }\n",
       "</style>\n",
       "<table border=\"1\" class=\"dataframe\">\n",
       "  <thead>\n",
       "    <tr style=\"text-align: right;\">\n",
       "      <th></th>\n",
       "      <th>Crime ID</th>\n",
       "      <th>Month</th>\n",
       "      <th>Reported by</th>\n",
       "      <th>Falls within</th>\n",
       "      <th>Longitude</th>\n",
       "      <th>Latitude</th>\n",
       "      <th>Location</th>\n",
       "      <th>LSOA code</th>\n",
       "      <th>LSOA name</th>\n",
       "      <th>Crime type</th>\n",
       "      <th>Last outcome category</th>\n",
       "      <th>Context</th>\n",
       "      <th>Outcome type</th>\n",
       "      <th>Authority no outcome</th>\n",
       "    </tr>\n",
       "  </thead>\n",
       "  <tbody>\n",
       "    <tr>\n",
       "      <th>0</th>\n",
       "      <td>4a14d4745da0a2219ecf913fdc28a0c84ae8408954cac6...</td>\n",
       "      <td>2023-01</td>\n",
       "      <td>City of London Police</td>\n",
       "      <td>City of London Police</td>\n",
       "      <td>-0.106220</td>\n",
       "      <td>51.518275</td>\n",
       "      <td>On or near B500</td>\n",
       "      <td>E01000916</td>\n",
       "      <td>Camden 027B</td>\n",
       "      <td>Other theft</td>\n",
       "      <td>Under investigation</td>\n",
       "      <td>NaN</td>\n",
       "      <td>NaN</td>\n",
       "      <td></td>\n",
       "    </tr>\n",
       "    <tr>\n",
       "      <th>1</th>\n",
       "      <td>133f556f4f531988a458fc91dfe2ca39a01cfbd9abe530...</td>\n",
       "      <td>2023-01</td>\n",
       "      <td>City of London Police</td>\n",
       "      <td>City of London Police</td>\n",
       "      <td>-0.084754</td>\n",
       "      <td>51.512882</td>\n",
       "      <td>On or near Corbet Court</td>\n",
       "      <td>E01032739</td>\n",
       "      <td>City of London 001F</td>\n",
       "      <td>Theft from the person</td>\n",
       "      <td>Under investigation</td>\n",
       "      <td>NaN</td>\n",
       "      <td>NaN</td>\n",
       "      <td></td>\n",
       "    </tr>\n",
       "  </tbody>\n",
       "</table>\n",
       "</div>"
      ],
      "text/plain": [
       "                                            Crime ID    Month  \\\n",
       "0  4a14d4745da0a2219ecf913fdc28a0c84ae8408954cac6...  2023-01   \n",
       "1  133f556f4f531988a458fc91dfe2ca39a01cfbd9abe530...  2023-01   \n",
       "\n",
       "             Reported by           Falls within  Longitude   Latitude  \\\n",
       "0  City of London Police  City of London Police  -0.106220  51.518275   \n",
       "1  City of London Police  City of London Police  -0.084754  51.512882   \n",
       "\n",
       "                  Location  LSOA code            LSOA name  \\\n",
       "0          On or near B500  E01000916          Camden 027B   \n",
       "1  On or near Corbet Court  E01032739  City of London 001F   \n",
       "\n",
       "              Crime type Last outcome category  Context Outcome type  \\\n",
       "0            Other theft   Under investigation      NaN          NaN   \n",
       "1  Theft from the person   Under investigation      NaN          NaN   \n",
       "\n",
       "  Authority no outcome  \n",
       "0                       \n",
       "1                       "
      ]
     },
     "execution_count": 6,
     "metadata": {},
     "output_type": "execute_result"
    }
   ],
   "source": [
    "data.head(2)"
   ]
  },
  {
   "cell_type": "code",
   "execution_count": 7,
   "metadata": {},
   "outputs": [],
   "source": [
    "# save to local path\n",
    "data.to_excel('data/CityofLondon_crime_2023_01_street_outcomes.xlsx')"
   ]
  },
  {
   "cell_type": "code",
   "execution_count": null,
   "metadata": {},
   "outputs": [],
   "source": []
  }
 ],
 "metadata": {
  "colab": {
   "provenance": []
  },
  "kernelspec": {
   "display_name": "JL",
   "language": "python",
   "name": "jl"
  },
  "language_info": {
   "codemirror_mode": {
    "name": "ipython",
    "version": 3
   },
   "file_extension": ".py",
   "mimetype": "text/x-python",
   "name": "python",
   "nbconvert_exporter": "python",
   "pygments_lexer": "ipython3",
   "version": "3.10.0"
  }
 },
 "nbformat": 4,
 "nbformat_minor": 4
}
